{
 "cells": [
  {
   "cell_type": "markdown",
   "metadata": {
    "slideshow": {
     "slide_type": "slide"
    }
   },
   "source": [
    "#Multithreading, Multiprocessing, and Subprocessing\n",
    "##    - Chris Sterling"
   ]
  },
  {
   "cell_type": "markdown",
   "metadata": {
    "slideshow": {
     "slide_type": "notes"
    }
   },
   "source": [
    "- This is a primer to help you get started, not an all-encompassing guide\n",
    "- I'll be posting this, so no need to frantically write code\n",
    "- Here and there, I had to do some magic behind the scenes so that IPython notebook gave expected behavior - look at the notebook for more info"
   ]
  },
  {
   "cell_type": "markdown",
   "metadata": {
    "slideshow": {
     "slide_type": "slide"
    }
   },
   "source": [
    "##A function"
   ]
  },
  {
   "cell_type": "code",
   "execution_count": 24,
   "metadata": {
    "collapsed": true,
    "slideshow": {
     "slide_type": "fragment"
    }
   },
   "outputs": [],
   "source": [
    "def count_down(n):\n",
    "    while n > 0:\n",
    "        n-=1\n",
    "\n",
    "COUNT = 500000000"
   ]
  },
  {
   "cell_type": "markdown",
   "metadata": {
    "slideshow": {
     "slide_type": "notes"
    }
   },
   "source": [
    "Suppose we have a CPU bound function"
   ]
  },
  {
   "cell_type": "code",
   "execution_count": 25,
   "metadata": {
    "collapsed": false,
    "scrolled": true,
    "slideshow": {
     "slide_type": "fragment"
    }
   },
   "outputs": [
    {
     "name": "stdout",
     "output_type": "stream",
     "text": [
      "22.7928500175\n"
     ]
    }
   ],
   "source": [
    "import time\n",
    "start = time.time()\n",
    "\n",
    "count_down(COUNT)\n",
    "\n",
    "end = time.time()\n",
    "nothing = end-start\n",
    "print(nothing)"
   ]
  },
  {
   "cell_type": "markdown",
   "metadata": {
    "slideshow": {
     "slide_type": "slide"
    }
   },
   "source": [
    "# Concurrency\n",
    "- What if we want to split the work?"
   ]
  },
  {
   "cell_type": "markdown",
   "metadata": {
    "slideshow": {
     "slide_type": "slide"
    }
   },
   "source": [
    "#Libraries\n",
    "- threading\n",
    "- multiprocessing\n",
    "- subprocessing"
   ]
  },
  {
   "cell_type": "markdown",
   "metadata": {
    "slideshow": {
     "slide_type": "slide"
    }
   },
   "source": [
    "# Threads\n",
    "- Wrap around C's PThread library\n",
    "- Significantly slowed down significantly because of the GIL\n",
    "- 2 threads - 1/2 the time? ...Sometimes...\n",
    "- Basic operations:\n",
    " - `Thread(target=function_pointer, args=(fxn_arguments))`\n",
    " - `.start()`\n",
    " - `.join()`\n",
    " "
   ]
  },
  {
   "cell_type": "code",
   "execution_count": 26,
   "metadata": {
    "collapsed": false,
    "slideshow": {
     "slide_type": "fragment"
    }
   },
   "outputs": [
    {
     "name": "stdout",
     "output_type": "stream",
     "text": [
      "Nothing:\t22.7929\n",
      "2 Threads:\t11.3605\n"
     ]
    }
   ],
   "source": [
    "from threading import Thread\n",
    "\n",
    "# Setup the worker functions\n",
    "t1 = Thread(target=count_down, args=(COUNT//2,))\n",
    "t2 = Thread(target=count_down, args=(COUNT//2,))\n",
    "\n",
    "start = time.time()\n",
    "\n",
    "t1.start; t2.start()\n",
    "t1.join; t2.join()\n",
    "\n",
    "end = time.time()\n",
    "two_thread = end-start\n",
    "print \"Nothing:\\t%.4f\" % nothing\n",
    "print \"2 Threads:\\t%.4f\" % two_thread"
   ]
  },
  {
   "cell_type": "markdown",
   "metadata": {
    "slideshow": {
     "slide_type": "subslide"
    }
   },
   "source": [
    "# More Threads, More Power!\n",
    "- Spawn 10 threads all counting\n",
    "- 1/10th the time...right?"
   ]
  },
  {
   "cell_type": "code",
   "execution_count": 27,
   "metadata": {
    "collapsed": false,
    "slideshow": {
     "slide_type": "fragment"
    }
   },
   "outputs": [
    {
     "name": "stdout",
     "output_type": "stream",
     "text": [
      "Nothing:\t22.7929\n",
      "2 Threads:\t11.3605\n",
      "10 Threads:\t57.5292\n"
     ]
    }
   ],
   "source": [
    "NUM_THREADS = 10\n",
    "threads = [Thread(target=count_down, args=(COUNT//NUM_THREADS,)) for x in range(NUM_THREADS)]\n",
    "start = time.time()\n",
    "\n",
    "# Run thread pool\n",
    "for t in threads:\n",
    "    t.start()\n",
    "\n",
    "# Wait for the completed threads to exit\n",
    "for t in threads:\n",
    "    t.join()\n",
    "    \n",
    "end = time.time()\n",
    "multi_thread = end - start\n",
    "print \"Nothing:\\t%.4f\" % nothing\n",
    "print \"2 Threads:\\t%.4f\" % two_thread\n",
    "print \"%d Threads:\\t%.4f\" % (NUM_THREADS, multi_thread)"
   ]
  },
  {
   "cell_type": "markdown",
   "metadata": {
    "slideshow": {
     "slide_type": "fragment"
    }
   },
   "source": [
    "##Uh...What?"
   ]
  },
  {
   "cell_type": "markdown",
   "metadata": {
    "slideshow": {
     "slide_type": "subslide"
    }
   },
   "source": [
    "# What it's supposed to look like:\n",
    "![Fork Join Flowchart](http://5l3vgw.bay.livefilestore.com/y1prpgpboRXSzjQVnNYycq6GJuJ8R8HJIlojyRLhYinSz8MbLbSRl-3NN9tSD_qBRNoLp4SGLDZHIzUL0yvuqRj9GczCqOudgK_/Fork-Join%20flowchart.jpg)"
   ]
  },
  {
   "cell_type": "markdown",
   "metadata": {
    "slideshow": {
     "slide_type": "subslide"
    }
   },
   "source": [
    "#What it actually looks like\n",
    "![Threads and Puppies](http://s.quickmeme.com/img/8a/8a7e56c7935f096a8fbb6c536ed532ff32790c88ff957c85352ebe1ca462ce47.png)"
   ]
  },
  {
   "cell_type": "markdown",
   "metadata": {
    "slideshow": {
     "slide_type": "subslide"
    }
   },
   "source": [
    "#What it actually looks like\n",
    "###The CPython GIL (Global Interpreter Lock)\n",
    "![CPython GIL](http://cdn1.eveonline.com/community/devblog/2011/tasktree.png)\n",
    "\n",
    "####What if we want true concurrency though?"
   ]
  },
  {
   "cell_type": "markdown",
   "metadata": {
    "slideshow": {
     "slide_type": "notes"
    }
   },
   "source": [
    "- In order to have a truly multi-threaded program, you need a multi-threaded language\n",
    "- CPython 2 can only execute one line of code at a time because it passes around a single-threaded resource to access the Global Interpreter\n",
    "- Only one line of code can really be executed because of this"
   ]
  },
  {
   "cell_type": "markdown",
   "metadata": {
    "slideshow": {
     "slide_type": "slide"
    }
   },
   "source": [
    "#Forking!\n",
    "- The C-like way of spawning a child"
   ]
  },
  {
   "cell_type": "code",
   "execution_count": 46,
   "metadata": {
    "collapsed": false,
    "slideshow": {
     "slide_type": "fragment"
    }
   },
   "outputs": [
    {
     "name": "stdout",
     "output_type": "stream",
     "text": [
      "parent: 829, child: 1021\n",
      "The value of a in the parent is 0\n",
      "A new child (1021) is born!\n",
      "The value of a in the child is 1\n"
     ]
    }
   ],
   "source": [
    "import os\n",
    "a = 0\n",
    "\n",
    "newpid = os.fork()\n",
    "\n",
    "if newpid == 0:\n",
    "    print 'A new child (%d) is born!' % os.getpid( )\n",
    "    a+=1\n",
    "    print \"The value of a in the child is %d\" % a\n",
    "    os._exit(0)\n",
    "else:\n",
    "    pids = (os.getpid(), newpid)\n",
    "    time.sleep(5)\n",
    "    print \"parent: %d, child: %d\" % pids\n",
    "    print \"The value of a in the parent is %d\" % a"
   ]
  },
  {
   "cell_type": "markdown",
   "metadata": {
    "slideshow": {
     "slide_type": "subslide"
    }
   },
   "source": [
    "#Fork the work:"
   ]
  },
  {
   "cell_type": "code",
   "execution_count": 47,
   "metadata": {
    "collapsed": false,
    "slideshow": {
     "slide_type": "fragment"
    }
   },
   "outputs": [
    {
     "name": "stdout",
     "output_type": "stream",
     "text": [
      "Nothing:\t22.7929\n",
      "Forking:\t11.4259\n"
     ]
    }
   ],
   "source": [
    "import os\n",
    "import time\n",
    "start = time.time()\n",
    "\n",
    "newpid = os.fork()\n",
    "if newpid==0:\n",
    "    count_down(COUNT/2)\n",
    "    os._exit(0)\n",
    "else:\n",
    "    count_down(COUNT/2)\n",
    "\n",
    "end = time.time()\n",
    "forking = end-start\n",
    "print \"Nothing:\\t%.4f\" % nothing\n",
    "print \"Forking:\\t%.4f\" % forking"
   ]
  },
  {
   "cell_type": "markdown",
   "metadata": {
    "slideshow": {
     "slide_type": "slide"
    }
   },
   "source": [
    "# Multiprocessing"
   ]
  },
  {
   "cell_type": "code",
   "execution_count": 30,
   "metadata": {
    "collapsed": false,
    "slideshow": {
     "slide_type": "fragment"
    }
   },
   "outputs": [
    {
     "name": "stdout",
     "output_type": "stream",
     "text": [
      "Nothing:\t22.7929\n",
      "Forking:\t14.6486\n",
      "2 Processes:\t13.5605\n"
     ]
    }
   ],
   "source": [
    "import multiprocessing as mp\n",
    "import random\n",
    "import string\n",
    "\n",
    "start = time.time()\n",
    "\n",
    "p1 = mp.Process(target=count_down, args=(COUNT//2,))\n",
    "p2 = mp.Process(target=count_down, args=(COUNT//2,))\n",
    "p1.start(); p2.start()\n",
    "p1.join(); p2.join()\n",
    "\n",
    "end = time.time()\n",
    "two_proc = end - start\n",
    "print \"Nothing:\\t%.4f\" % nothing\n",
    "print \"Forking:\\t%.4f\" % forking\n",
    "print \"2 Processes:\\t%.4f\" % two_proc"
   ]
  },
  {
   "cell_type": "markdown",
   "metadata": {
    "slideshow": {
     "slide_type": "fragment"
    }
   },
   "source": [
    "######Modified from http://sebastianraschka.com/Articles/2014_multiprocessing_intro.html#Multi-Threading-vs.-Multi-Processing"
   ]
  },
  {
   "cell_type": "markdown",
   "metadata": {
    "slideshow": {
     "slide_type": "subslide"
    }
   },
   "source": [
    "# More processes...more power?\n",
    "Spawn 10 processes all counting"
   ]
  },
  {
   "cell_type": "code",
   "execution_count": 31,
   "metadata": {
    "collapsed": false,
    "slideshow": {
     "slide_type": "fragment"
    }
   },
   "outputs": [
    {
     "name": "stdout",
     "output_type": "stream",
     "text": [
      "Nothing:\t22.7929\n",
      "Forking:\t14.6486\n",
      "2 Processes:\t13.5605\n",
      "10 Processes:\t13.6505\n"
     ]
    }
   ],
   "source": [
    "NUM_PROCS = 10\n",
    "processes = [mp.Process(target=count_down, args=(COUNT//NUM_PROCS,)) for x in range(NUM_PROCS)]\n",
    "start = time.time()\n",
    "\n",
    "# Run processes\n",
    "for p in processes:\n",
    "    p.start()\n",
    "\n",
    "# Wait for the completed processes to exit\n",
    "for p in processes:\n",
    "    p.join()\n",
    "    \n",
    "end = time.time()\n",
    "multi_proc = end - start\n",
    "print \"Nothing:\\t%.4f\" % nothing\n",
    "print \"Forking:\\t%.4f\" % forking\n",
    "print \"2 Processes:\\t%.4f\" % two_proc\n",
    "print \"%d Processes:\\t%.4f\" % (NUM_PROCS, multi_proc)"
   ]
  },
  {
   "cell_type": "markdown",
   "metadata": {
    "slideshow": {
     "slide_type": "slide"
    }
   },
   "source": [
    "# A Comparison"
   ]
  },
  {
   "cell_type": "code",
   "execution_count": 32,
   "metadata": {
    "collapsed": false,
    "slideshow": {
     "slide_type": "fragment"
    }
   },
   "outputs": [
    {
     "name": "stdout",
     "output_type": "stream",
     "text": [
      "Nothing:\t22.7929\n",
      "2 Threads:\t11.3605\n",
      "10 Threads:\t57.5292\n",
      "Forking:\t14.6486\n",
      "2 Processes:\t13.5605\n",
      "10 Processes:\t13.6505\n"
     ]
    }
   ],
   "source": [
    "print \"Nothing:\\t%.4f\" % nothing\n",
    "print \"2 Threads:\\t%.4f\" % two_thread\n",
    "print \"%d Threads:\\t%.4f\" % (NUM_THREADS, multi_thread)\n",
    "print \"Forking:\\t%.4f\" % forking\n",
    "print \"2 Processes:\\t%.4f\" % two_proc\n",
    "print \"%d Processes:\\t%.4f\" % (NUM_PROCS, multi_proc)"
   ]
  },
  {
   "cell_type": "markdown",
   "metadata": {
    "slideshow": {
     "slide_type": "fragment"
    }
   },
   "source": [
    "# But they do the same thing!\n",
    "...Don't they?"
   ]
  },
  {
   "cell_type": "markdown",
   "metadata": {
    "slideshow": {
     "slide_type": "notes"
    }
   },
   "source": [
    "- Something I personally still struggle with is when to use which\n",
    "- Downside of processing is much more gets copied\n",
    "- Remember, this is for threading in Python, not just in C"
   ]
  },
  {
   "cell_type": "markdown",
   "metadata": {
    "slideshow": {
     "slide_type": "slide"
    }
   },
   "source": [
    "# When do I use which?\n",
    "- Processes copy resources (heavier)\n",
    "- Threads share resources (lighter)\n",
    "- Depends on what you're trying to do"
   ]
  },
  {
   "cell_type": "markdown",
   "metadata": {
    "slideshow": {
     "slide_type": "subslide"
    }
   },
   "source": [
    "#Process\n",
    "![Process System Diagram](http://www.w3.org/People/Frystyk/thesis/Process.gif)"
   ]
  },
  {
   "cell_type": "markdown",
   "metadata": {
    "slideshow": {
     "slide_type": "subslide"
    }
   },
   "source": [
    "#Thread\n",
    "![Thread System Diagram](http://www.w3.org/People/Frystyk/thesis/MultiStackThread.gif)"
   ]
  },
  {
   "cell_type": "markdown",
   "metadata": {
    "slideshow": {
     "slide_type": "slide"
    }
   },
   "source": [
    "# Then there's subprocess\n",
    " - Subprocess doesn't carry around as much as multiprocess\n",
    "  - Carries the environment, but doesn't copy the active variables\n",
    " - Great for calling external commands\n",
    " \n",
    "### Basic Example:"
   ]
  },
  {
   "cell_type": "code",
   "execution_count": 33,
   "metadata": {
    "collapsed": false,
    "slideshow": {
     "slide_type": "fragment"
    }
   },
   "outputs": [
    {
     "name": "stdout",
     "output_type": "stream",
     "text": [
      "MandelbrotFractal.png\n",
      "Threads and Processes in Python 2.ipynb\n",
      "a_new_file\n",
      "custom.css\n",
      "install-support.ipynb\n",
      "multi_threaded_scraping.py\n",
      "notebook-slideshow-example.ipynb\n",
      "reveal.js\n",
      "scraping.ipynb\n",
      "scraping.py\n",
      "scraping.pyc\n",
      "\n"
     ]
    }
   ],
   "source": [
    "import subprocess\n",
    "ls_output = subprocess.check_output(['ls'])\n",
    "print(ls_output)"
   ]
  },
  {
   "cell_type": "markdown",
   "metadata": {
    "slideshow": {
     "slide_type": "fragment"
    }
   },
   "source": [
    "### Weakness\n",
    "- .check_output is 'blocking'\n",
    "\n",
    "#### What if we wanted to get the data back concurrently though?"
   ]
  },
  {
   "cell_type": "markdown",
   "metadata": {
    "slideshow": {
     "slide_type": "notes"
    }
   },
   "source": [
    "The subprocess module is for spawning processes and doing things with their input/output - not for running functions."
   ]
  },
  {
   "cell_type": "markdown",
   "metadata": {
    "slideshow": {
     "slide_type": "slide"
    }
   },
   "source": [
    "# We can use Popen()\n",
    "- Non-blocking\n",
    "\n",
    "###Basic Example"
   ]
  },
  {
   "cell_type": "code",
   "execution_count": 34,
   "metadata": {
    "collapsed": false,
    "slideshow": {
     "slide_type": "fragment"
    }
   },
   "outputs": [
    {
     "name": "stdout",
     "output_type": "stream",
     "text": [
      "total 68\n",
      "drwxrwxr-x+ 100 root  admin  3400 Apr 14 14:41 Applications\n",
      "drwxr-xr-x+  65 root  wheel  2210 Mar 26 19:24 Library\n",
      "drwxr-xr-x@   2 root  wheel    68 Sep  9  2014 Network\n",
      "drwxr-xr-x+   4 root  wheel   136 Nov 12 16:42 System\n",
      "-rw-r--r--    1 root  wheel    71 Mar 11 06:01 TMVersion.ini\n",
      "lrwxr-xr-x    1 root  wheel    49 Mar  2 09:58 User Information -> /Library/Documentation/User Information.localized\n",
      "drwxr-xr-x    6 root  admin   204 Mar  2 09:58 Users\n",
      "drwxrwxrwt@   3 root  admin   102 Apr 14 14:39 Volumes\n",
      "drwxr-xr-x@  39 root  wheel  1326 Apr 10 17:09 bin\n",
      "drwxrwxr-t@   2 root  admin    68 Sep  9  2014 cores\n",
      "dr-xr-xr-x    3 root  wheel  7771 Apr 14 14:39 dev\n",
      "lrwxr-xr-x@   1 root  wheel    11 Nov 12 16:36 etc -> private/etc\n",
      "dr-xr-xr-x    2 root  wheel     1 Apr 14 14:45 home\n",
      "-rw-r--r--@   1 root  wheel   313 Oct  1  2014 installer.failurerequests\n",
      "dr-xr-xr-x    2 root  wheel     1 Apr 14 14:45 net\n",
      "drwxr-xr-x    4 root  wheel   136 Mar  9 02:58 opt\n",
      "drwxr-xr-x@   6 root  wheel   204 Nov 12 16:43 private\n",
      "drwxr-xr-x@  59 root  wheel  2006 Apr 10 17:09 sbin\n",
      "lrwxr-xr-x@   1 root  wheel    11 Nov 12 16:37 tmp -> private/tmp\n",
      "drwxr-xr-x@  12 root  wheel   408 Mar  9 02:54 usr\n",
      "lrwxr-xr-x@   1 root  wheel    11 Nov 12 16:38 var -> private/var\n"
     ]
    }
   ],
   "source": [
    "from subprocess import Popen, PIPE\n",
    "import sys\n",
    "command = \"ls -l\".split(\" \")\n",
    "proc = Popen(command, cwd='/', stdout=PIPE, stderr=PIPE)\n",
    "\n",
    "while True:\n",
    "    out = proc.stdout.read(1)\n",
    "    if out == '' and proc.poll() != None:\n",
    "        break\n",
    "    if out != '':\n",
    "        sys.stdout.write(out)\n",
    "        sys.stdout.flush()"
   ]
  },
  {
   "cell_type": "markdown",
   "metadata": {
    "slideshow": {
     "slide_type": "slide"
    }
   },
   "source": [
    "#Communication Between Processes\n",
    "- Use a pipe\n",
    " - Shell pipe example: `ls -l | grep \"a\"`\n",
    " \n",
    "###Or use a queue!"
   ]
  },
  {
   "cell_type": "markdown",
   "metadata": {
    "slideshow": {
     "slide_type": "slide"
    }
   },
   "source": [
    "#Queues!\n",
    "- First In First Out\n",
    "- Allow for producer/consumer relationship\n",
    "- Natively thread-safe in Python\n",
    "- Basic operations:\n",
    " - `q.put(a_variable)`\n",
    " - `a_variable = q.get()` - Locks the queue\n",
    " - `q.task_done()` - Unlocks the queue"
   ]
  },
  {
   "cell_type": "code",
   "execution_count": 35,
   "metadata": {
    "collapsed": false,
    "slideshow": {
     "slide_type": "subslide"
    }
   },
   "outputs": [
    {
     "name": "stdout",
     "output_type": "stream",
     "text": [
      "Putting into queue\n",
      "Putting into queue\n",
      "Thread 1 - Downloading 'http://...20zmk%20-%20ardennen%20-%20001%20-%20BALTHAZAR.mp3'\n",
      "Thread 1 - Downloading 'http://...vs%20zmk%20-%20ardennen%20-%20002%20-%20STEFAN.mp3'\n",
      "Putting into queue\n",
      "Putting into queue\n",
      "Putting into queue\n",
      "Thread 2 - Downloading 'http://...20-%20ardennen%20-%20003%20-%20OBX%20vs%20BART.mp3'\n",
      "Putting into queue\n",
      "Thread 2 - Downloading 'http://...%20vs%20zmk%20-%20ardennen%20-%20004%20-%20BRZ.mp3'\n",
      "Thread 4 - Downloading 'http://...-%20ardennen%20-%20005%20-%20ACID-K%20vs%206BO.mp3'\n",
      "Putting into queue\n",
      "Thread 4 - Downloading 'http://...-%20ardennen%20-%20006%20-%20ROBBERT%20MONONOM.mp3'\n",
      "Putting into queue\n",
      "Thread 4 - Downloading 'http://...29%20-%20Indabassement%2001%20%2806-03-2010%29.mp3'\n",
      "Putting into queue\n",
      "Thread 4 - Downloading 'http://...ush%20%28013%20ss%29%20-%20tribewar%2008022013.mp3'\n",
      "Putting into queue\n",
      "Thread 4 - Downloading 'http://...b%20our%20first%20Impro%20...%20error%20inside.mp3'\n",
      "Putting into queue\n",
      "Thread 7 - Downloading 'http://...20Fous%20%28Mantra%20Tribe%20System%20Swiss%29.mp3'\n",
      "Putting into queue\n",
      "Thread 7 - Downloading 'http://...re%20Birthday%20Esylonn%20Otoktone-Oxyde%20BHZ.mp3'\n",
      "Putting into queue\n",
      "Thread 1 - Downloading 'http://...051%20TKLME%20Moulinex%20%29%20le%2014.09.2K13.mp3'\n",
      "Putting into queue\n",
      "Thread 1 - Downloading 'http://...ive%20act%20at%20Cheyenne%20Festival%2008-2013.mp3'\n",
      "Putting into queue\n",
      "Putting into queue\n",
      "Putting into queue\n",
      "Putting into queue\n",
      "Thread 5 - Downloading 'http://...%20Acid%20Up%20Dub%20bobbles%20liveset%2007-13.mp3'\n",
      "Thread 2 - Downloading 'http://...acid%20up%20dub%20soir%C3%A9e%20opsy%2007.2013.mp3'\n",
      "Thread 6 - Downloading 'http://...imension%20-%2010%20fingers%20in%20your%20head.mp3'\n",
      "Putting into queue\n",
      "Thread 6 - Downloading 'http://...on/25eme%20Dimension%20-%20Art%20of%20hypnosis.mp3'\n",
      "Thread 4 - Downloading 'http://...mension%20-%20Chinese%20adventure%20of%20metal.mp3'\n",
      "Putting into queue\n",
      "Putting into queue\n",
      "Thread 6 - Downloading 'http://...me%20Dimension%20-%20Enter%202%20the%20vorteks.mp3'\n",
      "Thread 4 - Downloading 'http://...5eme%20Dimension%20-%20Fragment%20of%20present.mp3'\n",
      "Putting into queue\n",
      "Thread 1 - Downloading 'http://...sion/25eme%20Dimension%20-%20Haze%20take%20off.mp3'\n",
      "Putting into queue\n",
      "Thread 1 - Downloading 'http://...sion/25eme%20Dimension%20-%20Lascension%202011.mp3'\n",
      "Putting into queue\n",
      "Thread Thread-37 - Downloading 'http://...ension%20-%20Monde%20Int%20C3%20A9rieur%202011.mp3'\n",
      "Putting into queue\n",
      "Putting into queue\n",
      "Putting into queue\n",
      "Putting into queue\n",
      "Thread 5 - Downloading 'http://...imension%20-%20Usine%20de%20metal%20polymorphe.mp3'\n",
      "Thread 9 - Downloading 'http://...estiny%20LiveSet%204%20%40%20Juraparc%206-2-10.mp3'\n",
      "Thread 2 - Downloading 'http://...mension%20Live%20Usine%20Zoo%2014%20Fev%202009.mp3'\n",
      "Thread 2 - Downloading 'http://...ive%20Zoo%20Usine%2014%20Fev%202009%20Part%202.mp3'\n",
      "Putting into queue\n",
      "Putting into queue\n",
      "Thread 9 - Downloading 'http://...on/25emme%20Dimension%20-%20Inside%20adventure.mp3'\n",
      "Thread 2 - Downloading 'http://...nsion/25eme%20dimension%20-%20mix%2025d%202005.mp3'\n",
      "Putting into queue\n",
      "Thread 6 - Downloading 'http://...me%20dimension/25emme%20Dimension%20-%20Metalo.mp3'\n",
      "Putting into queue\n",
      "Thread 9 - Downloading 'http://...imension/25emme%20Dimension%20-%20White%20hole.mp3'\n",
      "Putting into queue\n",
      "Putting into queue\n",
      "Putting into queue\n",
      "Putting into queue\n",
      "Putting into queue\n",
      "Thread 7 - Downloading 'http://...imension/25emme%20Dimensions%20-%20Acid%20Flow.mp3'\n",
      "Thread 5 - Downloading 'http://...0dimension/25emme%20Dimensions%20-%20Elevation.mp3'\n",
      "Thread 8 - Downloading 'http://...%20dimension/25emme%20Dimensions%20-%20Rebirth.mp3'\n",
      "Putting into queue\n",
      "Thread 5 - Downloading 'http://...e%20dimension/25emme%20Dimensions%20-%20Xplode.mp3'\n",
      "Thread 4 - Downloading 'http://...emme%20Dimensions%20-%20afterlive%20%28koma%29.mp3'\n",
      "Thread 4 - Downloading 'http://...20session%20%28selection%20of%20trax%202013%29.mp3'\n",
      "Putting into queue\n",
      "Thread 8 - Downloading 'http://...1%21%21%20support%20Epsylonn%20Otoktone%20Crew.mp3'\n",
      "Putting into queue\n",
      "Thread 8 - Downloading 'http://...freeteknomusic.org/mp3/25eme%20dimension/Alone.mp3'\n",
      "Putting into queue\n",
      "Putting into queue\n",
      "Putting into queue\n",
      "Thread 2 - Downloading 'http://...me%20dimension/Arcanes%20-%2025eme%20Dimension.mp3'\n",
      "Thread 9 - Downloading 'http://...3/25eme%20dimension/Be%20-%2025eme%20Dimension.mp3'\n",
      "Thread 9 - Downloading 'http://...org/mp3/25eme%20dimension/Cause%20And%20Effect.mp3'\n",
      "Putting into queue\n",
      "Thread 3 - Downloading 'http://...%20dimension/Distorted%20Perception%20part%202.mp3'\n",
      "Putting into queue\n",
      "Thread 7 - Downloading 'http://...eme%20dimension/Distorted%20Perception%20part1.mp3'\n",
      "Putting into queue\n",
      "Thread 7 - Downloading 'http://...pe%20From%20Underground%20Party%2023%2011%2013.mp3'\n",
      "Putting into queue\n",
      "Thread 4 - Downloading 'http://...rt%20for%20the%20Attention%20tekno%204%20party.mp3'\n",
      "Putting into queue\n",
      "Thread 4 - Downloading 'http://...eknomusic.org/mp3/25eme%20dimension/Fly%20Away.mp3'\n",
      "Putting into queue\n",
      "Thread 5 - Downloading 'http://...me%20dimension/Genesis%20-%2025eme%20Dimension.mp3'\n",
      "Putting into queue\n",
      "Thread 8 - Downloading 'http://...20a%20fairy%20tale%20of%20mechanic%20creatures.mp3'\n",
      "Putting into queue\n",
      "Thread 5 - Downloading 'http://...se%20By%20Doctors%20Analog%20%28Asphalt-25D%29.mp3'\n",
      "Putting into queue\n",
      "Thread 2 - Downloading 'http://...0YOU%20Bang%20bass%20party%20milano%2021.12.13.mp3'\n",
      "Putting into queue\n",
      "Thread 2 - Downloading 'http://.../25eme%20dimension/Meet%20With%20The%20Spirits.mp3'\n",
      "Putting into queue\n",
      "Thread 3 - Downloading 'http://...g/mp3/25eme%20dimension/Meet%20with%20eternity.mp3'\n",
      "Putting into queue\n",
      "Putting into queue Thread 7 - Downloading 'http://.../mp3/25eme%20dimension/Melotek%20Volca%20impro.mp3'\n",
      "\n",
      "Thread Thread-37 - Downloading 'http://...imension/Merkabah%20%28used%20for%20healing%29.mp3'\n",
      "Putting into queue\n",
      "Putting into queue\n",
      "Putting into queue\n",
      "Putting into queue\n",
      "Thread 4 - Downloading 'http://...imension/Meta%20meet%20volca%20experimentation.mp3'\n",
      "Thread 8 - Downloading 'http://...20Chillohm%20crew%20%28Cut%20no%20memory...%29.mp3'\n",
      "Thread 1 - Downloading 'http://...e%20at%20X-massacre%20Party%20Czech%2013.12.13.mp3'\n",
      "Thread 1 - Downloading 'http://...sion/Open%20mind%2025D%20Live%20Alsace%2021.09.mp3'\n",
      "Putting into queue\n",
      "Thread 5 - Downloading 'http://...sic.org/mp3/25eme%20dimension/Oriental%20drone.mp3'\n",
      "Putting into queue\n",
      "Thread 9 - Downloading 'http://...music.org/mp3/25eme%20dimension/Pumpin%20Brain.mp3'\n",
      "Putting into queue\n",
      "Thread 5 - Downloading 'http://...dimension/Rock%20n%20roll%20is%20an%20attitude.mp3'\n",
      "Putting into queue\n",
      "Thread 9 - Downloading 'http://...g/mp3/25eme%20dimension/Squatt%20Czech%20Part2.mp3'\n",
      "Putting into queue\n",
      "Putting into queue\n",
      "Thread 7 - Downloading 'http://...g/mp3/25eme%20dimension/Squatt%20Czeky%20Part1.mp3'\n",
      "Thread 7 - Downloading 'http://...0Into%20The%203rd%20Eyes%20%28volca%20impro%29.mp3'\n",
      "Putting into queue\n",
      "Thread 7 - Downloading 'http://...imension/Tknooo%20%28volca%20beat%20Keys%20%29.mp3'\n",
      "Putting into queue\n",
      "Thread 7 - Downloading 'http://...3/25eme%20dimension/TransDimensional%20Journey.mp3'\n",
      "Putting into queue\n",
      "Thread 8 - Downloading 'http://...Unreality%2025D%20Impro%20At%20Parazit%20Party.mp3'\n",
      "Putting into queue\n",
      "Thread 1 - Downloading 'http://...n/We%20Are%20Children%20Of%20The%20Sun%20tribe.mp3'\n",
      "Putting into queue\n",
      "Putting into queue\n",
      "Thread 3 - Downloading 'http://...music.org/mp3/25eme%20dimension/acid%20odyssey.mp3'\n",
      "Putting into queue\n",
      "Thread 3 - Downloading 'http://...03%20time%20impro%20by%2025D%20%26%20acidupdub.mp3'\n",
      "Thread 6 - Downloading 'http://.../freeteknomusic.org/mp3/25eme%20dimension/atma.mp3'\n",
      "Putting into queue\n",
      "Thread 6 - Downloading 'http://...5eme%20dimension/cheesy%20set%20cremona%204mai.mp3'\n",
      "Thread 6 - Downloading 'http://...Eskape%20from%20underground%20Party%2023.11.13.mp3'\n",
      "The queue is now empty\n"
     ]
    }
   ],
   "source": [
    "from Queue import Queue\n",
    "from threading import Thread, current_thread, Event\n",
    "import scraping\n",
    "\n",
    "q = Queue()\n",
    "\n",
    "# Pop something out of the queue\n",
    "def worker(stop_event):\n",
    "    while not stop_event.is_set():\n",
    "        url = q.get() # Internal mutex in queue\n",
    "        print \"Thread %s - Downloading '%s...%s'\" % (current_thread().name, url[:7], url[len(url)-50:len(url)])\n",
    "        \n",
    "        # Tell the queue you are done with the item\n",
    "        # When queue is zero-ed, queue.join no longer blocks\n",
    "        q.task_done()\n",
    "        \n",
    "# Spawn 10 threads\n",
    "NUM_THREADS = 10\n",
    "stop_event = Event()\n",
    "threads = [Thread(target=worker, name=x, args=(stop_event,)) for x in range(NUM_THREADS)]\n",
    "\n",
    "# Run threads\n",
    "for t in threads:\n",
    "    t.daemon = True\n",
    "    t.start()\n",
    "\n",
    "# Put the scraped URLS into the queue\n",
    "for url in scraping.main():\n",
    "    print \"Putting into queue\"\n",
    "    q.put(url)\n",
    "\n",
    "# Wait for the queue to be empty\n",
    "q.join()\n",
    "print \"The queue is now empty\"\n",
    "\n",
    "stop_event.set()"
   ]
  },
  {
   "cell_type": "markdown",
   "metadata": {
    "slideshow": {
     "slide_type": "slide"
    }
   },
   "source": [
    "# Remember to always reap your zombie children\n",
    "- Processes \n",
    " * Use `.kill()` or `.terminate()` for processes\n",
    "- Threads\n",
    " * sys.exit() does *not* stop other threads unless they're in daemon mode\n",
    "    - `daemon` makes it easy for us so we don't have to explicitly exit threads (unless you're in iPython...)\n",
    "    - Used for background tasks\n",
    "    - Thread status gets ignored\n",
    " * There is no true `.kill()` mechanism\n",
    " * Can set `t.Event()`\n",
    " * Example: `while not stop_event: do_stuff()`"
   ]
  },
  {
   "cell_type": "markdown",
   "metadata": {
    "slideshow": {
     "slide_type": "notes"
    }
   },
   "source": [
    "- The entire Python program exits when no alive non-daemon threads are left."
   ]
  },
  {
   "cell_type": "code",
   "execution_count": 36,
   "metadata": {
    "collapsed": false,
    "slideshow": {
     "slide_type": "fragment"
    }
   },
   "outputs": [],
   "source": [
    "import atexit\n",
    "procs = []\n",
    "\n",
    "\n",
    "# No matter what happens, kill all the remaining processes\n",
    "@atexit.register\n",
    "def kill_subprocesses():\n",
    "    for proc in procs:\n",
    "        proc.kill()"
   ]
  },
  {
   "cell_type": "markdown",
   "metadata": {
    "slideshow": {
     "slide_type": "slide"
    }
   },
   "source": [
    "#Challenges of Concurrency\n",
    "- Race conditions - Things not executing in the correct order (solve with Queue!)\n",
    "- Deadlock - A bunch of things all fighting over the same resources\n",
    "- How do we solve?\n",
    " - Program design (use thread safe packages)\n",
    " - Mutex!"
   ]
  },
  {
   "cell_type": "markdown",
   "metadata": {
    "slideshow": {
     "slide_type": "notes"
    }
   },
   "source": [
    "- Race condition example: - what if order matters?\n",
    " - Take the ATM example:\n",
    " - Your bank account is at 0 (like mine)\n",
    " - You have a check for 100\n",
    " - Need to wait for it to clear before paying a bill\n",
    "- Deadlock example:\n",
    " - What if two threads want to modify the same variable at the same time? \n",
    " - Can lock up your program because system just doesn't know what to do with them"
   ]
  },
  {
   "cell_type": "markdown",
   "metadata": {
    "collapsed": true,
    "slideshow": {
     "slide_type": "slide"
    }
   },
   "source": [
    "# Mute...what?\n",
    "- Mutex – a mechanism for protecting chunks of code that aren't necessarily thread-safe\n",
    "- Usage:\n",
    " - `Lock()`\n",
    " - `RLock()`\n",
    " - `mutex.acquire()`\n",
    " - `mutex.release()`"
   ]
  },
  {
   "cell_type": "markdown",
   "metadata": {
    "slideshow": {
     "slide_type": "notes"
    }
   },
   "source": [
    "Lock() v RLock()\n",
    "Another difference is that an acquired Lock can be released by any thread, while an acquired RLock can only be released by the thread which acquired it."
   ]
  },
  {
   "cell_type": "code",
   "execution_count": 37,
   "metadata": {
    "collapsed": false,
    "slideshow": {
     "slide_type": "fragment"
    }
   },
   "outputs": [],
   "source": [
    "from threading import Thread, RLock\n",
    "\n",
    "mutex = RLock()\n",
    "\n",
    "def processData(fp):\n",
    "    mutex.acquire()\n",
    "    fp.write(\"Some data\")\n",
    "    mutex.release()\n",
    "\n",
    "with open('a_new_file', 'w') as fp:\n",
    "    t = Thread(target = processData, args = (fp,))\n",
    "    t.start()\n",
    "    t.join()"
   ]
  },
  {
   "cell_type": "markdown",
   "metadata": {
    "slideshow": {
     "slide_type": "subslide"
    }
   },
   "source": [
    "#Mutex visualized\n",
    "![Blocked/waiting](http://www.c-sharpcorner.com/UploadFile/BlogImages/04232014021243AM/1.jpg)"
   ]
  },
  {
   "cell_type": "markdown",
   "metadata": {
    "slideshow": {
     "slide_type": "fragment"
    }
   },
   "source": [
    "Based on http://sebastianraschka.com/Articles/2014_multiprocessing_intro.html"
   ]
  },
  {
   "cell_type": "markdown",
   "metadata": {
    "slideshow": {
     "slide_type": "slide"
    }
   },
   "source": [
    "# A Threading Example\n",
    "- Make a fractal\n",
    "- Building image concurrently"
   ]
  },
  {
   "cell_type": "code",
   "execution_count": 40,
   "metadata": {
    "collapsed": false,
    "slideshow": {
     "slide_type": "fragment"
    }
   },
   "outputs": [
    {
     "data": {
      "image/png": "[encoded data removed]",
      "text/plain": [
       "<IPython.core.display.Image object>"
      ]
     },
     "metadata": {},
     "output_type": "display_data"
    }
   ],
   "source": [
    "from PIL import Image\n",
    "from IPython.display import Image as I\n",
    "from IPython.display import display\n",
    "import threading\n",
    "\n",
    "w = 512 # image width\n",
    "h = 512 # image height\n",
    "image = Image.new(\"RGB\", (w, h))\n",
    "wh = w * h\n",
    "maxIt = 12 # max number of iterations allowed\n",
    "# drawing region (xa < xb & ya < yb)\n",
    "xa = -2.0\n",
    "xb = 1.0\n",
    "ya = -1.5\n",
    "yb = 1.5\n",
    "xd = xb - xa\n",
    "yd = yb - ya\n",
    "numThr = 5 # number of threads to run\n",
    "# lock = threading.Lock()\n",
    "\n",
    "class ManFrThread(threading.Thread): \n",
    "    def __init__ (self, k):\n",
    "          self.k = k\n",
    "          threading.Thread.__init__(self)\n",
    "    def run(self):\n",
    "        # each thread only calculates its own share of pixels\n",
    "        for i in range(k, wh, numThr):\n",
    "            kx = i % w\n",
    "            ky = int(i / w)\n",
    "            a = xa + xd * kx / (w - 1.0)\n",
    "            b = ya + yd * ky / (h - 1.0)\n",
    "            x = a\n",
    "            y = b\n",
    "            for kc in range(maxIt):\n",
    "                x0 = x * x - y * y + a\n",
    "                y = 2.0 * x * y + b\n",
    "                x = x0                \n",
    "                if x * x + y * y > 4:\n",
    "                    # various color palettes can be created here\n",
    "                    red = (kc % 8) * 32\n",
    "                    green = (16 - kc % 16) * 16\n",
    "                    blue = (kc % 16) * 16\n",
    "                    # lock.acquire()\n",
    "                    global image\n",
    "                    image.putpixel((kx, ky), (red, green, blue))\n",
    "                    # lock.release()\n",
    "                    break\n",
    "\n",
    "\n",
    "tArr = []\n",
    "for k in range(numThr): # create all threads\n",
    "    tArr.append(ManFrThread(k))\n",
    "for k in range(numThr): # start all threads\n",
    "    tArr[k].start()\n",
    "for k in range(numThr): # wait until all threads finished\n",
    "    tArr[k].join()\n",
    "image.save(\"MandelbrotFractal.png\", \"PNG\")\n",
    "i = I(filename='MandelbrotFractal.png')\n",
    "display(i)"
   ]
  },
  {
   "cell_type": "markdown",
   "metadata": {
    "slideshow": {
     "slide_type": "fragment"
    }
   },
   "source": [
    "#####Modified from http://code.activestate.com/recipes/577680-multi-threaded-mandelbrot-fractal/"
   ]
  },
  {
   "cell_type": "markdown",
   "metadata": {
    "slideshow": {
     "slide_type": "slide"
    }
   },
   "source": [
    "# Pipe AND queue communication\n",
    "- Let's get crazy\n",
    "- Subprocess to pipe to threads"
   ]
  },
  {
   "cell_type": "code",
   "execution_count": 41,
   "metadata": {
    "collapsed": false,
    "slideshow": {
     "slide_type": "fragment"
    }
   },
   "outputs": [],
   "source": [
    "from subprocess import Popen, PIPE\n",
    "from threading import Thread\n",
    "from Queue import Queue, Empty\n",
    "\n",
    "io_q = Queue()\n",
    "\n",
    "# Sticks anything from the pipe into a queue\n",
    "def stream_watcher(identifier, stream):\n",
    "    for line in stream:\n",
    "        io_q.put((identifier, line))\n",
    "    if not stream.closed:\n",
    "        stream.close()\n",
    "\n",
    "# Takes things out of the queue and prints them to the screen as they come\n",
    "def printer():\n",
    "    while True:\n",
    "        try:\n",
    "            # Block for 1 second.\n",
    "            item = io_q.get(True, 1)\n",
    "            \n",
    "        except Empty:\n",
    "            # No output in either streams for a second. Are we done?\n",
    "            if proc.poll() is not None:\n",
    "                break\n",
    "        else:\n",
    "            identifier, line = item\n",
    "            print identifier + ':', line\n",
    "\n",
    "command = \"ls -l\".split(\" \")\n",
    "\n",
    "proc = Popen(command, cwd='/usr/local/bin', stdout=PIPE, stderr=PIPE)\n",
    "\n",
    "stdout_t = Thread(target=stream_watcher,\n",
    "        args=('STDOUT', proc.stdout))\n",
    "stderr_t = Thread(target=stream_watcher,\n",
    "        args=('STDERR', proc.stderr))\n",
    "\n",
    "stdout_t.daemon = True; stderr_t.daemon = True\n",
    "stdout_t.start(); stderr_t.start()\n",
    "\n",
    "print_t = Thread(target=printer)\n",
    "print_t.daemon = True\n",
    "print_t.start()"
   ]
  },
  {
   "cell_type": "markdown",
   "metadata": {
    "slideshow": {
     "slide_type": "fragment"
    }
   },
   "source": [
    "Modified from http://sharats.me/the-ever-useful-and-neat-subprocess-module.html#a-simple-usage"
   ]
  },
  {
   "cell_type": "markdown",
   "metadata": {
    "collapsed": true,
    "slideshow": {
     "slide_type": "slide"
    }
   },
   "source": [
    "#Questions?"
   ]
  }
 ],
 "metadata": {
  "celltoolbar": "Slideshow",
  "kernelspec": {
   "display_name": "Python 2",
   "language": "python",
   "name": "python2"
  },
  "language_info": {
   "codemirror_mode": {
    "name": "ipython",
    "version": 2
   },
   "file_extension": ".py",
   "mimetype": "text/x-python",
   "name": "python",
   "nbconvert_exporter": "python",
   "pygments_lexer": "ipython2",
   "version": "2.7.9"
  }
 },
 "nbformat": 4,
 "nbformat_minor": 0
}
